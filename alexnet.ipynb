{
 "cells": [
  {
   "cell_type": "code",
   "execution_count": 1,
   "metadata": {},
   "outputs": [],
   "source": [
    "import torch \n",
    "import torch.nn as nn\n",
    "import torchvision\n",
    "from torchvision import models\n",
    "from torch.autograd import Variable\n",
    "import torchvision.transforms as transforms\n",
    "import numpy as np\n",
    "from sklearn import metrics\n",
    "\n",
    "#Gerekli kütüphanelerin eklenmesi\n",
    "\n",
    "device = torch.device('cuda:0' if torch.cuda.is_available() else 'cpu') # training için device seçimi\n",
    "\n",
    "\n",
    "transform_train = transforms.Compose([\n",
    "    transforms.Resize(64),\n",
    "    transforms.RandomHorizontalFlip(),\n",
    "    transforms.ToTensor(),\n",
    "])\n",
    "\n",
    "transform_test = transforms.Compose([\n",
    "    transforms.Resize(64),\n",
    "    transforms.ToTensor(),\n",
    "]) # girdilire yapılacak transform tipleri , bu örneğimiz için alexnete 28x28 verileri feedleyemediğimiz için \n",
    "   # 64x64'e çekmeye karar verdik.\n",
    "\n",
    "\n",
    "train_dataset = torchvision.datasets.MNIST(root = '../input/',\n",
    "                                           train = True,\n",
    "                                          transform = transform_train,\n",
    "                                          download = True)\n",
    "\n",
    "test_dataset = torchvision.datasets.MNIST(root = '../input/',\n",
    "                                           train = False,\n",
    "                                          transform = transform_test) # torchvision package içerisinde , MNIST dataseti hazır olarak bulunmakta.\n",
    "                                                                      # Basitçe değişkenlere atama yapıyoruz.\n"
   ]
  },
  {
   "cell_type": "code",
   "execution_count": 2,
   "metadata": {},
   "outputs": [],
   "source": [
    "## HYPER PARAMETERS\n",
    "batch_size = 100\n",
    "learning_rate = 0.0003\n",
    "num_epochs = 5\n",
    "## HYPER PARAMETERS"
   ]
  },
  {
   "cell_type": "code",
   "execution_count": 3,
   "metadata": {},
   "outputs": [],
   "source": [
    "train_loader = torch.utils.data.DataLoader(dataset = train_dataset, batch_size= batch_size, shuffle= True)\n",
    "\n",
    "test_loader = torch.utils.data.DataLoader(dataset = test_dataset, batch_size= batch_size, shuffle = False)\n",
    "# Datalarımızı batchlere bölmek ve training loopa sokmak için DataLoaderlare ihtiyacımız var.\n",
    "\n",
    "model = models.alexnet(pretrained= True) ## Burdaki değere False vererek parametresiz bir Alexnet modeli getirebilirsiniz.\n",
    "                                         ## Bazı notebooklarda tamamen kendimiz yazdığımız modellerde var.\n",
    "for param in model.parameters():\n",
    "    param.require_grad = False ## Son Layeri donduruyoruz. (Classifier Kısmını)\n",
    "\n",
    "fc = nn.Sequential(\n",
    "    nn.Linear(9216,4096),\n",
    "    nn.ReLU(),\n",
    "    nn.Dropout(0.4),\n",
    "    nn.Linear(4096, 1000),\n",
    "    nn.ReLU(),\n",
    "    nn.Linear(1000, 10)\n",
    ")\n",
    "\n",
    "model.classifier = fc # Kendi amacımıza göre bir classifier takıyoruz modelin sonuna."
   ]
  },
  {
   "cell_type": "code",
   "execution_count": 4,
   "metadata": {},
   "outputs": [
    {
     "data": {
      "text/plain": [
       "AlexNet(\n",
       "  (features): Sequential(\n",
       "    (0): Conv2d(3, 64, kernel_size=(11, 11), stride=(4, 4), padding=(2, 2))\n",
       "    (1): ReLU(inplace)\n",
       "    (2): MaxPool2d(kernel_size=3, stride=2, padding=0, dilation=1, ceil_mode=False)\n",
       "    (3): Conv2d(64, 192, kernel_size=(5, 5), stride=(1, 1), padding=(2, 2))\n",
       "    (4): ReLU(inplace)\n",
       "    (5): MaxPool2d(kernel_size=3, stride=2, padding=0, dilation=1, ceil_mode=False)\n",
       "    (6): Conv2d(192, 384, kernel_size=(3, 3), stride=(1, 1), padding=(1, 1))\n",
       "    (7): ReLU(inplace)\n",
       "    (8): Conv2d(384, 256, kernel_size=(3, 3), stride=(1, 1), padding=(1, 1))\n",
       "    (9): ReLU(inplace)\n",
       "    (10): Conv2d(256, 256, kernel_size=(3, 3), stride=(1, 1), padding=(1, 1))\n",
       "    (11): ReLU(inplace)\n",
       "    (12): MaxPool2d(kernel_size=3, stride=2, padding=0, dilation=1, ceil_mode=False)\n",
       "  )\n",
       "  (avgpool): AdaptiveAvgPool2d(output_size=(6, 6))\n",
       "  (classifier): Sequential(\n",
       "    (0): Linear(in_features=9216, out_features=4096, bias=True)\n",
       "    (1): ReLU()\n",
       "    (2): Dropout(p=0.4)\n",
       "    (3): Linear(in_features=4096, out_features=1000, bias=True)\n",
       "    (4): ReLU()\n",
       "    (5): Linear(in_features=1000, out_features=10, bias=True)\n",
       "  )\n",
       ")"
      ]
     },
     "execution_count": 4,
     "metadata": {},
     "output_type": "execute_result"
    }
   ],
   "source": [
    "criterion = nn.CrossEntropyLoss() # Error belirlenmesi için bir metrik tutmalıyız.\n",
    "optimizer = torch.optim.Adam(model.parameters(), lr = learning_rate) ##Optimizer Değiştirilebilir farklı sonuçlar için.\n",
    "\n",
    "model.to(device) ## Modeli GPU'ya atıyoruz."
   ]
  },
  {
   "cell_type": "code",
   "execution_count": 5,
   "metadata": {},
   "outputs": [
    {
     "name": "stdout",
     "output_type": "stream",
     "text": [
      "Epoch [1/5], Step [100/600], Loss: 0.1791\n",
      "Epoch [1/5], Step [200/600], Loss: 0.1644\n",
      "Epoch [1/5], Step [300/600], Loss: 0.1629\n",
      "Epoch [1/5], Step [400/600], Loss: 0.0459\n",
      "Epoch [1/5], Step [500/600], Loss: 0.1161\n",
      "Epoch [1/5], Step [600/600], Loss: 0.1424\n",
      "Epoch [2/5], Step [100/600], Loss: 0.2548\n",
      "Epoch [2/5], Step [200/600], Loss: 0.1300\n",
      "Epoch [2/5], Step [300/600], Loss: 0.0170\n",
      "Epoch [2/5], Step [400/600], Loss: 0.0390\n",
      "Epoch [2/5], Step [500/600], Loss: 0.0415\n",
      "Epoch [2/5], Step [600/600], Loss: 0.0488\n",
      "Epoch [3/5], Step [100/600], Loss: 0.1023\n",
      "Epoch [3/5], Step [200/600], Loss: 0.0968\n",
      "Epoch [3/5], Step [300/600], Loss: 0.0107\n",
      "Epoch [3/5], Step [400/600], Loss: 0.0473\n",
      "Epoch [3/5], Step [500/600], Loss: 0.0584\n",
      "Epoch [3/5], Step [600/600], Loss: 0.0112\n",
      "Epoch [4/5], Step [100/600], Loss: 0.1020\n",
      "Epoch [4/5], Step [200/600], Loss: 0.0142\n",
      "Epoch [4/5], Step [300/600], Loss: 0.0713\n",
      "Epoch [4/5], Step [400/600], Loss: 0.0654\n",
      "Epoch [4/5], Step [500/600], Loss: 0.0076\n",
      "Epoch [4/5], Step [600/600], Loss: 0.0284\n",
      "Epoch [5/5], Step [100/600], Loss: 0.0354\n",
      "Epoch [5/5], Step [200/600], Loss: 0.0668\n",
      "Epoch [5/5], Step [300/600], Loss: 0.0250\n",
      "Epoch [5/5], Step [400/600], Loss: 0.0415\n",
      "Epoch [5/5], Step [500/600], Loss: 0.0086\n",
      "Epoch [5/5], Step [600/600], Loss: 0.0660\n"
     ]
    }
   ],
   "source": [
    "padding = Variable(torch.zeros(100, 2, 64, 64)) # Genelde torchvision kütüphanesindeki modeller 3 channel image kabul ediyor.\n",
    "                                                # Bizim inputlarımız 1 channel olduğu için size mismatch hatası alıyoruz.\n",
    "                                                # Basit bir şekilde loopun en başında padding ile (3x28x28) bir resim elde edebiliriz.\n",
    "\n",
    "total_step = len(train_loader)\n",
    "\n",
    "for epoch in range(num_epochs):\n",
    "    for i, (images, labels) in enumerate(train_loader):\n",
    "        images = torch.cat((images, padding), 1) ## padding ile image birleştirilir.\n",
    "        images = images.to(device) ## image GPU'ya atılır\n",
    "        labels = labels.to(device) ## label GPU'ya atılır\n",
    "        \n",
    "        outputs = model(images) ## image forward()'a  girer.\n",
    "        loss = criterion(outputs, labels) ## Loss hesaplanır.\n",
    "        \n",
    "        optimizer.zero_grad() # optimizer sıfırlanır.\n",
    "        loss.backward() # backprop\n",
    "        optimizer.step() #parametler yenilernir.\n",
    "        \n",
    "        if (i+1) % 100 == 0:\n",
    "            print ('Epoch [{}/{}], Step [{}/{}], Loss: {:.4f}' \n",
    "                   .format(epoch+1, num_epochs, i+1, total_step, loss.item())) # Log işlemi"
   ]
  },
  {
   "cell_type": "code",
   "execution_count": 6,
   "metadata": {},
   "outputs": [
    {
     "name": "stdout",
     "output_type": "stream",
     "text": [
      "9844\n",
      "Test Accuracy of the model on the 10000 test images: 98.44 %\n"
     ]
    }
   ],
   "source": [
    "model.eval()\n",
    "\n",
    "with torch.no_grad():\n",
    "    correct = 0\n",
    "    total = 0\n",
    "    for images, labels in test_loader:\n",
    "        images = torch.cat((images, padding), 1)\n",
    "        images = images.to(device)\n",
    "        labels = labels.to(device)\n",
    "        \n",
    "        outputs = model(images)\n",
    "        _, predicted = torch.max(outputs.data, 1)\n",
    "        total += labels.size(0)\n",
    "        correct += (predicted == labels).sum().item() # Predicted ile orjinal label eşitse doğru kabul ediyoruz.\n",
    "        \n",
    "    pred = predicted.to('cpu')\n",
    "    lb = labels.to('cpu')\n",
    "    pred = np.array(pred)\n",
    "    lb = np.array(lb)\n",
    "    print(correct)\n",
    "    print('Test Accuracy of the model on the 10000 test images: {} %'.format(100 * correct / total))"
   ]
  },
  {
   "cell_type": "code",
   "execution_count": 7,
   "metadata": {},
   "outputs": [],
   "source": [
    "#Bu Loader sadece Confusion matrix gösterimi için bulunmaktadır, bütün datalar tek batchde geçer, ama conf matrix için en basit yollardan biri.\n",
    "confusion_loader = torch.utils.data.DataLoader(dataset = test_dataset, batch_size= 10000, shuffle = False)\n",
    "\n",
    "padding = Variable(torch.zeros(10000, 2, 64, 64))\n",
    "\n",
    "with torch.no_grad():\n",
    "    correct = 0\n",
    "    total = 0\n",
    "    for images, labels in confusion_loader:\n",
    "        images = torch.cat((images, padding), 1)\n",
    "        images = images.to(device)\n",
    "        labels = labels.to(device)\n",
    "        outputs = model(images)\n",
    "        _, predicted = torch.max(outputs.data, 1)\n",
    "        total += labels.size(0)\n",
    "        correct += (predicted == labels).sum().item()\n",
    "        \n",
    "    pred = predicted.to('cpu')\n",
    "    lb = labels.to('cpu')\n",
    "    pred = np.array(pred)\n",
    "    lb = np.array(lb)"
   ]
  },
  {
   "cell_type": "code",
   "execution_count": 8,
   "metadata": {},
   "outputs": [
    {
     "name": "stdout",
     "output_type": "stream",
     "text": [
      "The Accuracy : 98.44000000000001\n",
      "The Precision : 98.41842628318649\n",
      "The Recall : 98.44894384443096\n",
      "The F1 Score : 98.4223715198817\n"
     ]
    }
   ],
   "source": [
    "print(f\"The Accuracy : { 100 * metrics.accuracy_score(lb, pred)}\")\n",
    "print(f\"The Precision : {100 * metrics.precision_score(lb, pred, average= 'macro')}\")\n",
    "print(f\"The Recall : {100 * metrics.recall_score(lb, pred, average= 'macro')}\")\n",
    "print(f\"The F1 Score : {100 *metrics.f1_score(lb, pred, average = 'macro')}\")"
   ]
  },
  {
   "cell_type": "code",
   "execution_count": 10,
   "metadata": {},
   "outputs": [
    {
     "data": {
      "image/png": "[encoded data removed]",
      "text/plain": [
       "<Figure size 576x432 with 2 Axes>"
      ]
     },
     "metadata": {
      "needs_background": "light"
     },
     "output_type": "display_data"
    },
    {
     "name": "stdout",
     "output_type": "stream",
     "text": [
      "None\n"
     ]
    }
   ],
   "source": [
    "from cm_helper import plot_confusion_matrix\n",
    "\n",
    "conf_matrix = metrics.confusion_matrix(lb, pred)\n",
    "print(plot_confusion_matrix(conf_matrix,normalize =False,target_names=[0,1,2,3,4,5,6,7,8,9]))"
   ]
  },
  {
   "cell_type": "code",
   "execution_count": null,
   "metadata": {},
   "outputs": [],
   "source": []
  }
 ],
 "metadata": {
  "kernelspec": {
   "display_name": "Python 3",
   "language": "python",
   "name": "python3"
  },
  "language_info": {
   "codemirror_mode": {
    "name": "ipython",
    "version": 3
   },
   "file_extension": ".py",
   "mimetype": "text/x-python",
   "name": "python",
   "nbconvert_exporter": "python",
   "pygments_lexer": "ipython3",
   "version": "3.6.9"
  }
 },
 "nbformat": 4,
 "nbformat_minor": 4
}
