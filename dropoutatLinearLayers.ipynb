{
 "cells": [
  {
   "cell_type": "code",
   "execution_count": 1,
   "metadata": {},
   "outputs": [],
   "source": [
    "import torch \n",
    "import torch.nn as nn\n",
    "import torchvision\n",
    "from torchvision import models\n",
    "from torch.autograd import Variable\n",
    "import torchvision.transforms as transforms\n",
    "import numpy as np\n",
    "from sklearn import metrics\n",
    "\n",
    "device = torch.device('cuda:0' if torch.cuda.is_available() else 'cpu')\n",
    "\n",
    "transform = transforms.Compose(\n",
    "    [transforms.ToTensor(),\n",
    "     transforms.Normalize([0.5], [0.5])])\n",
    "transform = transforms.Compose(\n",
    "    [transforms.ToTensor(),\n",
    "     transforms.Normalize([0.5], [0.5])])\n",
    "\n",
    "\n",
    "train_dataset = torchvision.datasets.MNIST(root = '../input/',\n",
    "                                           train = True,\n",
    "                                          transform = transform,\n",
    "                                          download = True)\n",
    "\n",
    "test_dataset = torchvision.datasets.MNIST(root = '../input/',\n",
    "                                           train = False,\n",
    "                                          transform = transform)"
   ]
  },
  {
   "cell_type": "code",
   "execution_count": 2,
   "metadata": {},
   "outputs": [],
   "source": [
    "batch_size = 100\n",
    "learning_rate = 0.003\n",
    "num_epochs = 10"
   ]
  },
  {
   "cell_type": "code",
   "execution_count": 3,
   "metadata": {},
   "outputs": [],
   "source": [
    "train_loader = torch.utils.data.DataLoader(dataset = train_dataset, batch_size= batch_size, shuffle= True)\n",
    "\n",
    "test_loader = torch.utils.data.DataLoader(dataset = test_dataset, batch_size= batch_size, shuffle = False)"
   ]
  },
  {
   "cell_type": "code",
   "execution_count": 4,
   "metadata": {},
   "outputs": [],
   "source": [
    "class Net(nn.Module):\n",
    "    def __init__(self):\n",
    "        super(Net, self).__init__()\n",
    "        \n",
    "        self.conv_block = nn.Sequential(\n",
    "            nn.Conv2d(1, 32, kernel_size=3, stride=1, padding=1),\n",
    "            nn.BatchNorm2d(32),\n",
    "            nn.ReLU(inplace=True),\n",
    "            nn.Conv2d(32, 64, kernel_size=3, stride=1, padding=1),\n",
    "            nn.BatchNorm2d(64),\n",
    "            nn.ReLU(inplace=True),\n",
    "            nn.MaxPool2d(kernel_size=2, stride=2),\n",
    "            nn.Conv2d(64, 128, kernel_size=3, stride=1, padding=1),\n",
    "            nn.BatchNorm2d(128),\n",
    "            nn.ReLU(inplace=True),\n",
    "            nn.MaxPool2d(kernel_size=2, stride=2) \n",
    "        )\n",
    "        \n",
    "        self.linear_block = nn.Sequential(\n",
    "            nn.Dropout(p=0.5),\n",
    "            nn.Linear(128*7*7, 128),\n",
    "            nn.BatchNorm1d(128),\n",
    "            nn.ReLU(inplace=True),\n",
    "            nn.Dropout(0.5),\n",
    "            nn.Linear(128, 64),\n",
    "            nn.BatchNorm1d(64),\n",
    "            nn.ReLU(inplace=True),\n",
    "            nn.Dropout(0.5),\n",
    "            nn.Linear(64, 10)\n",
    "        )\n",
    "        \n",
    "    def forward(self, x):\n",
    "        x = self.conv_block(x)\n",
    "        x = x.view(x.size(0), -1)\n",
    "        x = self.linear_block(x)\n",
    "        \n",
    "        return x"
   ]
  },
  {
   "cell_type": "code",
   "execution_count": 5,
   "metadata": {},
   "outputs": [],
   "source": [
    "model = Net()"
   ]
  },
  {
   "cell_type": "code",
   "execution_count": 6,
   "metadata": {},
   "outputs": [
    {
     "data": {
      "text/plain": [
       "Net(\n",
       "  (conv_block): Sequential(\n",
       "    (0): Conv2d(1, 32, kernel_size=(3, 3), stride=(1, 1), padding=(1, 1))\n",
       "    (1): BatchNorm2d(32, eps=1e-05, momentum=0.1, affine=True, track_running_stats=True)\n",
       "    (2): ReLU(inplace)\n",
       "    (3): Conv2d(32, 64, kernel_size=(3, 3), stride=(1, 1), padding=(1, 1))\n",
       "    (4): BatchNorm2d(64, eps=1e-05, momentum=0.1, affine=True, track_running_stats=True)\n",
       "    (5): ReLU(inplace)\n",
       "    (6): MaxPool2d(kernel_size=2, stride=2, padding=0, dilation=1, ceil_mode=False)\n",
       "    (7): Conv2d(64, 128, kernel_size=(3, 3), stride=(1, 1), padding=(1, 1))\n",
       "    (8): BatchNorm2d(128, eps=1e-05, momentum=0.1, affine=True, track_running_stats=True)\n",
       "    (9): ReLU(inplace)\n",
       "    (10): MaxPool2d(kernel_size=2, stride=2, padding=0, dilation=1, ceil_mode=False)\n",
       "  )\n",
       "  (linear_block): Sequential(\n",
       "    (0): Dropout(p=0.5)\n",
       "    (1): Linear(in_features=6272, out_features=128, bias=True)\n",
       "    (2): BatchNorm1d(128, eps=1e-05, momentum=0.1, affine=True, track_running_stats=True)\n",
       "    (3): ReLU(inplace)\n",
       "    (4): Dropout(p=0.5)\n",
       "    (5): Linear(in_features=128, out_features=64, bias=True)\n",
       "    (6): BatchNorm1d(64, eps=1e-05, momentum=0.1, affine=True, track_running_stats=True)\n",
       "    (7): ReLU(inplace)\n",
       "    (8): Dropout(p=0.5)\n",
       "    (9): Linear(in_features=64, out_features=10, bias=True)\n",
       "  )\n",
       ")"
      ]
     },
     "execution_count": 6,
     "metadata": {},
     "output_type": "execute_result"
    }
   ],
   "source": [
    "criterion = nn.CrossEntropyLoss()\n",
    "optimizer = torch.optim.Adam(model.parameters(), lr = learning_rate)\n",
    "\n",
    "model.to(device)"
   ]
  },
  {
   "cell_type": "code",
   "execution_count": 7,
   "metadata": {},
   "outputs": [
    {
     "name": "stdout",
     "output_type": "stream",
     "text": [
      "Epoch [1/10], Step [100/600], Loss: 0.3029\n",
      "Epoch [1/10], Step [200/600], Loss: 0.1723\n",
      "Epoch [1/10], Step [300/600], Loss: 0.0866\n",
      "Epoch [1/10], Step [400/600], Loss: 0.1552\n",
      "Epoch [1/10], Step [500/600], Loss: 0.1250\n",
      "Epoch [1/10], Step [600/600], Loss: 0.2057\n",
      "Epoch [2/10], Step [100/600], Loss: 0.1172\n",
      "Epoch [2/10], Step [200/600], Loss: 0.0392\n",
      "Epoch [2/10], Step [300/600], Loss: 0.1102\n",
      "Epoch [2/10], Step [400/600], Loss: 0.0705\n",
      "Epoch [2/10], Step [500/600], Loss: 0.0514\n",
      "Epoch [2/10], Step [600/600], Loss: 0.1295\n",
      "Epoch [3/10], Step [100/600], Loss: 0.2168\n",
      "Epoch [3/10], Step [200/600], Loss: 0.1450\n",
      "Epoch [3/10], Step [300/600], Loss: 0.1309\n",
      "Epoch [3/10], Step [400/600], Loss: 0.1057\n",
      "Epoch [3/10], Step [500/600], Loss: 0.0155\n",
      "Epoch [3/10], Step [600/600], Loss: 0.1468\n",
      "Epoch [4/10], Step [100/600], Loss: 0.0670\n",
      "Epoch [4/10], Step [200/600], Loss: 0.0932\n",
      "Epoch [4/10], Step [300/600], Loss: 0.0620\n",
      "Epoch [4/10], Step [400/600], Loss: 0.0696\n",
      "Epoch [4/10], Step [500/600], Loss: 0.1965\n",
      "Epoch [4/10], Step [600/600], Loss: 0.0584\n",
      "Epoch [5/10], Step [100/600], Loss: 0.0341\n",
      "Epoch [5/10], Step [200/600], Loss: 0.0239\n",
      "Epoch [5/10], Step [300/600], Loss: 0.0260\n",
      "Epoch [5/10], Step [400/600], Loss: 0.0369\n",
      "Epoch [5/10], Step [500/600], Loss: 0.0891\n",
      "Epoch [5/10], Step [600/600], Loss: 0.0268\n",
      "Epoch [6/10], Step [100/600], Loss: 0.0222\n",
      "Epoch [6/10], Step [200/600], Loss: 0.1286\n",
      "Epoch [6/10], Step [300/600], Loss: 0.0620\n",
      "Epoch [6/10], Step [400/600], Loss: 0.0550\n",
      "Epoch [6/10], Step [500/600], Loss: 0.0192\n",
      "Epoch [6/10], Step [600/600], Loss: 0.0455\n",
      "Epoch [7/10], Step [100/600], Loss: 0.0777\n",
      "Epoch [7/10], Step [200/600], Loss: 0.0846\n",
      "Epoch [7/10], Step [300/600], Loss: 0.1735\n",
      "Epoch [7/10], Step [400/600], Loss: 0.0237\n",
      "Epoch [7/10], Step [500/600], Loss: 0.1101\n",
      "Epoch [7/10], Step [600/600], Loss: 0.0508\n",
      "Epoch [8/10], Step [100/600], Loss: 0.1068\n",
      "Epoch [8/10], Step [200/600], Loss: 0.0244\n",
      "Epoch [8/10], Step [300/600], Loss: 0.0237\n",
      "Epoch [8/10], Step [400/600], Loss: 0.0410\n",
      "Epoch [8/10], Step [500/600], Loss: 0.1024\n",
      "Epoch [8/10], Step [600/600], Loss: 0.0589\n",
      "Epoch [9/10], Step [100/600], Loss: 0.0143\n",
      "Epoch [9/10], Step [200/600], Loss: 0.0078\n",
      "Epoch [9/10], Step [300/600], Loss: 0.0419\n",
      "Epoch [9/10], Step [400/600], Loss: 0.0109\n",
      "Epoch [9/10], Step [500/600], Loss: 0.1937\n",
      "Epoch [9/10], Step [600/600], Loss: 0.0340\n",
      "Epoch [10/10], Step [100/600], Loss: 0.0108\n",
      "Epoch [10/10], Step [200/600], Loss: 0.1211\n",
      "Epoch [10/10], Step [300/600], Loss: 0.0058\n",
      "Epoch [10/10], Step [400/600], Loss: 0.0851\n",
      "Epoch [10/10], Step [500/600], Loss: 0.0505\n",
      "Epoch [10/10], Step [600/600], Loss: 0.0921\n"
     ]
    }
   ],
   "source": [
    "total_step = len(train_loader)\n",
    "\n",
    "for epoch in range(num_epochs):\n",
    "    for i, (images, labels) in enumerate(train_loader):\n",
    "        images = images.to(device)\n",
    "        labels = labels.to(device)\n",
    "        \n",
    "        outputs = model(images)\n",
    "        loss = criterion(outputs, labels)\n",
    "        \n",
    "        optimizer.zero_grad()\n",
    "        loss.backward()\n",
    "        optimizer.step()\n",
    "        \n",
    "        if (i+1) % 100 == 0:\n",
    "            print ('Epoch [{}/{}], Step [{}/{}], Loss: {:.4f}' \n",
    "                   .format(epoch+1, num_epochs, i+1, total_step, loss.item()))"
   ]
  },
  {
   "cell_type": "code",
   "execution_count": 10,
   "metadata": {},
   "outputs": [],
   "source": [
    "confusion_loader = torch.utils.data.DataLoader(dataset = test_dataset, batch_size= 10000, shuffle = False)\n",
    "model.to('cpu')\n",
    "with torch.no_grad():\n",
    "    correct = 0\n",
    "    total = 0\n",
    "    for images, labels in confusion_loader:\n",
    "        outputs = model(images)\n",
    "        _, predicted = torch.max(outputs.data, 1)\n",
    "        total += labels.size(0)\n",
    "        correct += (predicted == labels).sum().item()\n",
    "        \n",
    "    pred = predicted.to('cpu')\n",
    "    lb = labels.to('cpu')\n",
    "    pred = np.array(pred)\n",
    "    lb = np.array(lb)"
   ]
  },
  {
   "cell_type": "code",
   "execution_count": 12,
   "metadata": {},
   "outputs": [
    {
     "data": {
      "image/png": "[encoded data removed]",
      "text/plain": [
       "<Figure size 576x432 with 2 Axes>"
      ]
     },
     "metadata": {
      "needs_background": "light"
     },
     "output_type": "display_data"
    },
    {
     "name": "stdout",
     "output_type": "stream",
     "text": [
      "None\n"
     ]
    }
   ],
   "source": [
    "from cm_helper import plot_confusion_matrix\n",
    "\n",
    "conf_matrix = metrics.confusion_matrix(lb, pred)\n",
    "print(plot_confusion_matrix(conf_matrix,normalize =False,target_names=[0,1,2,3,4,5,6,7,8,9]))"
   ]
  },
  {
   "cell_type": "code",
   "execution_count": 13,
   "metadata": {},
   "outputs": [
    {
     "name": "stdout",
     "output_type": "stream",
     "text": [
      "The Accuracy : 98.66\n",
      "The Precision : 98.65958215481392\n",
      "The Recall : 98.64095813344804\n",
      "The F1 Score : 98.64930828457453\n"
     ]
    }
   ],
   "source": [
    "print(f\"The Accuracy : { 100 * metrics.accuracy_score(lb, pred)}\")\n",
    "print(f\"The Precision : {100 * metrics.precision_score(lb, pred, average= 'macro')}\")\n",
    "print(f\"The Recall : {100 * metrics.recall_score(lb, pred, average= 'macro')}\")\n",
    "print(f\"The F1 Score : {100 *metrics.f1_score(lb, pred, average = 'macro')}\")"
   ]
  },
  {
   "cell_type": "code",
   "execution_count": null,
   "metadata": {},
   "outputs": [],
   "source": [
    "#https://www.kaggle.com/franklemuchahary/mnist-digit-recognition-using-pytorch"
   ]
  }
 ],
 "metadata": {
  "kernelspec": {
   "display_name": "Python 3",
   "language": "python",
   "name": "python3"
  },
  "language_info": {
   "codemirror_mode": {
    "name": "ipython",
    "version": 3
   },
   "file_extension": ".py",
   "mimetype": "text/x-python",
   "name": "python",
   "nbconvert_exporter": "python",
   "pygments_lexer": "ipython3",
   "version": "3.6.9"
  }
 },
 "nbformat": 4,
 "nbformat_minor": 4
}
