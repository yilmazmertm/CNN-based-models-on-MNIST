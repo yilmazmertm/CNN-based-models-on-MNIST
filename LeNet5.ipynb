{
 "cells": [
  {
   "cell_type": "code",
   "execution_count": 1,
   "metadata": {},
   "outputs": [],
   "source": [
    "import torch \n",
    "import torch.nn as nn\n",
    "import torchvision\n",
    "from torchvision import models\n",
    "from torch.autograd import Variable\n",
    "import torchvision.transforms as transforms\n",
    "import numpy as np\n",
    "from sklearn import metrics\n",
    "\n",
    "device = torch.device('cuda:0' if torch.cuda.is_available() else 'cpu')\n",
    "\n",
    "transform = transforms.Compose(\n",
    "    [transforms.ToTensor(),\n",
    "     transforms.Normalize([0.5], [0.5])])\n",
    "transform = transforms.Compose(\n",
    "    [transforms.ToTensor(),\n",
    "     transforms.Normalize([0.5], [0.5])])\n",
    "\n",
    "\n",
    "train_dataset = torchvision.datasets.MNIST(root = '../input/',\n",
    "                                           train = True,\n",
    "                                          transform = transform,\n",
    "                                          download = True)\n",
    "\n",
    "test_dataset = torchvision.datasets.MNIST(root = '../input/',\n",
    "                                           train = False,\n",
    "                                          transform = transform)"
   ]
  },
  {
   "cell_type": "code",
   "execution_count": 2,
   "metadata": {},
   "outputs": [],
   "source": [
    "batch_size = 100\n",
    "learning_rate = 0.1\n",
    "num_epochs = 17"
   ]
  },
  {
   "cell_type": "code",
   "execution_count": 3,
   "metadata": {},
   "outputs": [],
   "source": [
    "train_loader = torch.utils.data.DataLoader(dataset = train_dataset, batch_size= batch_size, shuffle= True)\n",
    "\n",
    "test_loader = torch.utils.data.DataLoader(dataset = test_dataset, batch_size= batch_size, shuffle = False)"
   ]
  },
  {
   "cell_type": "code",
   "execution_count": 4,
   "metadata": {},
   "outputs": [],
   "source": [
    "class Model(nn.Module):\n",
    "    def __init__(self):\n",
    "        super(Model, self).__init__()\n",
    "        self.conv1 = nn.Conv2d(1, 6, 5)\n",
    "        self.relu1 = nn.ReLU()\n",
    "        self.pool1 = nn.MaxPool2d(2)\n",
    "        self.conv2 = nn.Conv2d(6, 16, 5)\n",
    "        self.relu2 = nn.ReLU()\n",
    "        self.pool2 = nn.MaxPool2d(2)\n",
    "        self.fc1 = nn.Linear(256, 120)\n",
    "        self.relu3 = nn.ReLU()\n",
    "        self.fc2 = nn.Linear(120, 84)\n",
    "        self.relu4 = nn.ReLU()\n",
    "        self.fc3 = nn.Linear(84, 10)\n",
    "        self.relu5 = nn.ReLU()\n",
    "\n",
    "    def forward(self, x):\n",
    "        y = self.conv1(x)\n",
    "        y = self.relu1(y)\n",
    "        y = self.pool1(y)\n",
    "        y = self.conv2(y)\n",
    "        y = self.relu2(y)\n",
    "        y = self.pool2(y)\n",
    "        y = y.view(y.shape[0], -1)\n",
    "        y = self.fc1(y)\n",
    "        y = self.relu3(y)\n",
    "        y = self.fc2(y)\n",
    "        y = self.relu4(y)\n",
    "        y = self.fc3(y)\n",
    "        y = self.relu5(y)\n",
    "        return y"
   ]
  },
  {
   "cell_type": "code",
   "execution_count": 5,
   "metadata": {},
   "outputs": [],
   "source": [
    "model = Model()"
   ]
  },
  {
   "cell_type": "code",
   "execution_count": 6,
   "metadata": {},
   "outputs": [
    {
     "data": {
      "text/plain": [
       "Model(\n",
       "  (conv1): Conv2d(1, 6, kernel_size=(5, 5), stride=(1, 1))\n",
       "  (relu1): ReLU()\n",
       "  (pool1): MaxPool2d(kernel_size=2, stride=2, padding=0, dilation=1, ceil_mode=False)\n",
       "  (conv2): Conv2d(6, 16, kernel_size=(5, 5), stride=(1, 1))\n",
       "  (relu2): ReLU()\n",
       "  (pool2): MaxPool2d(kernel_size=2, stride=2, padding=0, dilation=1, ceil_mode=False)\n",
       "  (fc1): Linear(in_features=256, out_features=120, bias=True)\n",
       "  (relu3): ReLU()\n",
       "  (fc2): Linear(in_features=120, out_features=84, bias=True)\n",
       "  (relu4): ReLU()\n",
       "  (fc3): Linear(in_features=84, out_features=10, bias=True)\n",
       "  (relu5): ReLU()\n",
       ")"
      ]
     },
     "execution_count": 6,
     "metadata": {},
     "output_type": "execute_result"
    }
   ],
   "source": [
    "criterion = nn.CrossEntropyLoss()\n",
    "optimizer = torch.optim.SGD(model.parameters(), lr = learning_rate)\n",
    "\n",
    "model.to(device)"
   ]
  },
  {
   "cell_type": "code",
   "execution_count": 7,
   "metadata": {
    "collapsed": true,
    "jupyter": {
     "outputs_hidden": true
    }
   },
   "outputs": [
    {
     "name": "stdout",
     "output_type": "stream",
     "text": [
      "Epoch [1/17], Step [100/600], Loss: 2.1243\n",
      "Epoch [1/17], Step [200/600], Loss: 0.5222\n",
      "Epoch [1/17], Step [300/600], Loss: 0.2439\n",
      "Epoch [1/17], Step [400/600], Loss: 0.1837\n",
      "Epoch [1/17], Step [500/600], Loss: 0.2123\n",
      "Epoch [1/17], Step [600/600], Loss: 0.1737\n",
      "Epoch [2/17], Step [100/600], Loss: 0.3093\n",
      "Epoch [2/17], Step [200/600], Loss: 0.2700\n",
      "Epoch [2/17], Step [300/600], Loss: 0.1143\n",
      "Epoch [2/17], Step [400/600], Loss: 0.0588\n",
      "Epoch [2/17], Step [500/600], Loss: 0.0611\n",
      "Epoch [2/17], Step [600/600], Loss: 0.0651\n",
      "Epoch [3/17], Step [100/600], Loss: 0.0797\n",
      "Epoch [3/17], Step [200/600], Loss: 0.0445\n",
      "Epoch [3/17], Step [300/600], Loss: 0.0426\n",
      "Epoch [3/17], Step [400/600], Loss: 0.0441\n",
      "Epoch [3/17], Step [500/600], Loss: 0.0606\n",
      "Epoch [3/17], Step [600/600], Loss: 0.0530\n",
      "Epoch [4/17], Step [100/600], Loss: 0.0384\n",
      "Epoch [4/17], Step [200/600], Loss: 0.0852\n",
      "Epoch [4/17], Step [300/600], Loss: 0.0695\n",
      "Epoch [4/17], Step [400/600], Loss: 0.0332\n",
      "Epoch [4/17], Step [500/600], Loss: 0.0427\n",
      "Epoch [4/17], Step [600/600], Loss: 0.0291\n",
      "Epoch [5/17], Step [100/600], Loss: 0.0281\n",
      "Epoch [5/17], Step [200/600], Loss: 0.0610\n",
      "Epoch [5/17], Step [300/600], Loss: 0.0108\n",
      "Epoch [5/17], Step [400/600], Loss: 0.0262\n",
      "Epoch [5/17], Step [500/600], Loss: 0.0271\n",
      "Epoch [5/17], Step [600/600], Loss: 0.0517\n",
      "Epoch [6/17], Step [100/600], Loss: 0.0075\n",
      "Epoch [6/17], Step [200/600], Loss: 0.0175\n",
      "Epoch [6/17], Step [300/600], Loss: 0.0149\n",
      "Epoch [6/17], Step [400/600], Loss: 0.0193\n",
      "Epoch [6/17], Step [500/600], Loss: 0.0133\n",
      "Epoch [6/17], Step [600/600], Loss: 0.0127\n",
      "Epoch [7/17], Step [100/600], Loss: 0.0154\n",
      "Epoch [7/17], Step [200/600], Loss: 0.0132\n",
      "Epoch [7/17], Step [300/600], Loss: 0.0417\n",
      "Epoch [7/17], Step [400/600], Loss: 0.0085\n",
      "Epoch [7/17], Step [500/600], Loss: 0.0055\n",
      "Epoch [7/17], Step [600/600], Loss: 0.0130\n",
      "Epoch [8/17], Step [100/600], Loss: 0.0105\n",
      "Epoch [8/17], Step [200/600], Loss: 0.0024\n",
      "Epoch [8/17], Step [300/600], Loss: 0.0136\n",
      "Epoch [8/17], Step [400/600], Loss: 0.0171\n",
      "Epoch [8/17], Step [500/600], Loss: 0.0090\n",
      "Epoch [8/17], Step [600/600], Loss: 0.0047\n",
      "Epoch [9/17], Step [100/600], Loss: 0.0067\n",
      "Epoch [9/17], Step [200/600], Loss: 0.0037\n",
      "Epoch [9/17], Step [300/600], Loss: 0.0056\n",
      "Epoch [9/17], Step [400/600], Loss: 0.0155\n",
      "Epoch [9/17], Step [500/600], Loss: 0.0394\n",
      "Epoch [9/17], Step [600/600], Loss: 0.0036\n",
      "Epoch [10/17], Step [100/600], Loss: 0.0055\n",
      "Epoch [10/17], Step [200/600], Loss: 0.0159\n",
      "Epoch [10/17], Step [300/600], Loss: 0.0188\n",
      "Epoch [10/17], Step [400/600], Loss: 0.0043\n",
      "Epoch [10/17], Step [500/600], Loss: 0.0004\n",
      "Epoch [10/17], Step [600/600], Loss: 0.0307\n",
      "Epoch [11/17], Step [100/600], Loss: 0.0094\n",
      "Epoch [11/17], Step [200/600], Loss: 0.0224\n",
      "Epoch [11/17], Step [300/600], Loss: 0.0313\n",
      "Epoch [11/17], Step [400/600], Loss: 0.0050\n",
      "Epoch [11/17], Step [500/600], Loss: 0.0972\n",
      "Epoch [11/17], Step [600/600], Loss: 0.0660\n",
      "Epoch [12/17], Step [100/600], Loss: 0.0004\n",
      "Epoch [12/17], Step [200/600], Loss: 0.0029\n",
      "Epoch [12/17], Step [300/600], Loss: 0.0250\n",
      "Epoch [12/17], Step [400/600], Loss: 0.0076\n",
      "Epoch [12/17], Step [500/600], Loss: 0.0027\n",
      "Epoch [12/17], Step [600/600], Loss: 0.0009\n",
      "Epoch [13/17], Step [100/600], Loss: 0.0706\n",
      "Epoch [13/17], Step [200/600], Loss: 0.0222\n",
      "Epoch [13/17], Step [300/600], Loss: 0.0048\n",
      "Epoch [13/17], Step [400/600], Loss: 0.0276\n",
      "Epoch [13/17], Step [500/600], Loss: 0.0012\n",
      "Epoch [13/17], Step [600/600], Loss: 0.0021\n",
      "Epoch [14/17], Step [100/600], Loss: 0.0032\n",
      "Epoch [14/17], Step [200/600], Loss: 0.0159\n",
      "Epoch [14/17], Step [300/600], Loss: 0.0620\n",
      "Epoch [14/17], Step [400/600], Loss: 0.0103\n",
      "Epoch [14/17], Step [500/600], Loss: 0.0100\n",
      "Epoch [14/17], Step [600/600], Loss: 0.0033\n",
      "Epoch [15/17], Step [100/600], Loss: 0.0030\n",
      "Epoch [15/17], Step [200/600], Loss: 0.0146\n",
      "Epoch [15/17], Step [300/600], Loss: 0.0027\n",
      "Epoch [15/17], Step [400/600], Loss: 0.0022\n",
      "Epoch [15/17], Step [500/600], Loss: 0.0046\n",
      "Epoch [15/17], Step [600/600], Loss: 0.0063\n",
      "Epoch [16/17], Step [100/600], Loss: 0.0491\n",
      "Epoch [16/17], Step [200/600], Loss: 0.0070\n",
      "Epoch [16/17], Step [300/600], Loss: 0.0016\n",
      "Epoch [16/17], Step [400/600], Loss: 0.0033\n",
      "Epoch [16/17], Step [500/600], Loss: 0.0011\n",
      "Epoch [16/17], Step [600/600], Loss: 0.0113\n",
      "Epoch [17/17], Step [100/600], Loss: 0.0024\n",
      "Epoch [17/17], Step [200/600], Loss: 0.0062\n",
      "Epoch [17/17], Step [300/600], Loss: 0.0117\n",
      "Epoch [17/17], Step [400/600], Loss: 0.0005\n",
      "Epoch [17/17], Step [500/600], Loss: 0.0073\n",
      "Epoch [17/17], Step [600/600], Loss: 0.0017\n"
     ]
    }
   ],
   "source": [
    "total_step = len(train_loader)\n",
    "\n",
    "for epoch in range(num_epochs):\n",
    "    for i, (images, labels) in enumerate(train_loader):\n",
    "        images = images.to(device)\n",
    "        labels = labels.to(device)\n",
    "        \n",
    "        outputs = model(images)\n",
    "        loss = criterion(outputs, labels)\n",
    "        \n",
    "        optimizer.zero_grad()\n",
    "        loss.backward()\n",
    "        optimizer.step()\n",
    "        \n",
    "        if (i+1) % 100 == 0:\n",
    "            print ('Epoch [{}/{}], Step [{}/{}], Loss: {:.4f}' \n",
    "                   .format(epoch+1, num_epochs, i+1, total_step, loss.item()))"
   ]
  },
  {
   "cell_type": "code",
   "execution_count": 8,
   "metadata": {},
   "outputs": [
    {
     "name": "stdout",
     "output_type": "stream",
     "text": [
      "9897\n",
      "Test Accuracy of the model on the 10000 test images: 98.97 %\n"
     ]
    }
   ],
   "source": [
    "model.eval()\n",
    "\n",
    "with torch.no_grad():\n",
    "    correct = 0\n",
    "    total = 0\n",
    "    for images, labels in test_loader:\n",
    "        images = images.to(device)\n",
    "        labels = labels.to(device)\n",
    "        \n",
    "        outputs = model(images)\n",
    "        _, predicted = torch.max(outputs.data, 1)\n",
    "        total += labels.size(0)\n",
    "        correct += (predicted == labels).sum().item()\n",
    "        \n",
    "    pred = predicted.to('cpu')\n",
    "    lb = labels.to('cpu')\n",
    "    pred = np.array(pred)\n",
    "    lb = np.array(lb)\n",
    "    print(correct)\n",
    "    print('Test Accuracy of the model on the 10000 test images: {} %'.format(100 * correct / total))"
   ]
  },
  {
   "cell_type": "code",
   "execution_count": 9,
   "metadata": {},
   "outputs": [],
   "source": [
    "confusion_loader = torch.utils.data.DataLoader(dataset = test_dataset, batch_size= 10000, shuffle = False)\n",
    "\n",
    "with torch.no_grad():\n",
    "    correct = 0\n",
    "    total = 0\n",
    "    for images, labels in confusion_loader:\n",
    "        images = images.to(device)\n",
    "        labels = labels.to(device)\n",
    "        outputs = model(images)\n",
    "        _, predicted = torch.max(outputs.data, 1)\n",
    "        total += labels.size(0)\n",
    "        correct += (predicted == labels).sum().item()\n",
    "        \n",
    "    pred = predicted.to('cpu')\n",
    "    lb = labels.to('cpu')\n",
    "    pred = np.array(pred)\n",
    "    lb = np.array(lb)"
   ]
  },
  {
   "cell_type": "code",
   "execution_count": 11,
   "metadata": {},
   "outputs": [
    {
     "data": {
      "image/png": "[encoded data removed]",
      "text/plain": [
       "<Figure size 576x432 with 2 Axes>"
      ]
     },
     "metadata": {
      "needs_background": "light"
     },
     "output_type": "display_data"
    },
    {
     "name": "stdout",
     "output_type": "stream",
     "text": [
      "None\n"
     ]
    }
   ],
   "source": [
    "from cm_helper import plot_confusion_matrix\n",
    "\n",
    "conf_matrix = metrics.confusion_matrix(lb, pred)\n",
    "print(plot_confusion_matrix(conf_matrix,normalize =False,target_names=[0,1,2,3,4,5,6,7,8,9]))"
   ]
  },
  {
   "cell_type": "code",
   "execution_count": 12,
   "metadata": {},
   "outputs": [
    {
     "name": "stdout",
     "output_type": "stream",
     "text": [
      "The Accuracy : 98.97\n",
      "The Precision : 98.96126420167857\n",
      "The Recall : 98.95910769606873\n",
      "The F1 Score : 98.95870622360337\n"
     ]
    }
   ],
   "source": [
    "print(f\"The Accuracy : { 100 * metrics.accuracy_score(lb, pred)}\")\n",
    "print(f\"The Precision : {100 * metrics.precision_score(lb, pred, average= 'macro')}\")\n",
    "print(f\"The Recall : {100 * metrics.recall_score(lb, pred, average= 'macro')}\")\n",
    "print(f\"The F1 Score : {100 *metrics.f1_score(lb, pred, average = 'macro')}\")"
   ]
  },
  {
   "cell_type": "code",
   "execution_count": null,
   "metadata": {},
   "outputs": [],
   "source": [
    "#https://github.com/ChawDoe/LeNet5-MNIST-PyTorch/blob/master/model.py"
   ]
  }
 ],
 "metadata": {
  "kernelspec": {
   "display_name": "Python 3",
   "language": "python",
   "name": "python3"
  },
  "language_info": {
   "codemirror_mode": {
    "name": "ipython",
    "version": 3
   },
   "file_extension": ".py",
   "mimetype": "text/x-python",
   "name": "python",
   "nbconvert_exporter": "python",
   "pygments_lexer": "ipython3",
   "version": "3.6.9"
  }
 },
 "nbformat": 4,
 "nbformat_minor": 4
}
