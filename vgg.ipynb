{
 "cells": [
  {
   "cell_type": "code",
   "execution_count": 1,
   "metadata": {},
   "outputs": [],
   "source": [
    "import torch \n",
    "import torch.nn as nn\n",
    "import torchvision\n",
    "from torchvision import models\n",
    "from torch.autograd import Variable\n",
    "import torchvision.transforms as transforms\n",
    "import numpy as np\n",
    "from sklearn import metrics\n",
    "\n",
    "device = torch.device('cuda:0' if torch.cuda.is_available() else 'cpu')"
   ]
  },
  {
   "cell_type": "code",
   "execution_count": 2,
   "metadata": {},
   "outputs": [],
   "source": [
    "train_dataset = torchvision.datasets.MNIST(root = '../input/',\n",
    "                                           train = True,\n",
    "                                          transform = transforms.ToTensor(),\n",
    "                                          download = True)\n",
    "\n",
    "test_dataset = torchvision.datasets.MNIST(root = '../input/',\n",
    "                                           train = False,\n",
    "                                          transform = transforms.ToTensor())"
   ]
  },
  {
   "cell_type": "code",
   "execution_count": 3,
   "metadata": {},
   "outputs": [],
   "source": [
    "batch_size = 100\n",
    "learning_rate = 0.0003\n",
    "num_epochs = 5"
   ]
  },
  {
   "cell_type": "code",
   "execution_count": 4,
   "metadata": {},
   "outputs": [],
   "source": [
    "train_loader = torch.utils.data.DataLoader(dataset = train_dataset, batch_size= batch_size, shuffle= True)\n",
    "\n",
    "test_loader = torch.utils.data.DataLoader(dataset = test_dataset, batch_size= batch_size, shuffle = False)"
   ]
  },
  {
   "cell_type": "code",
   "execution_count": 5,
   "metadata": {},
   "outputs": [],
   "source": [
    "model = models.vgg11(pretrained= False)\n",
    "\n",
    "#print(model)\n",
    "\n",
    "for param in model.parameters():\n",
    "    param.require_grad = False\n",
    "\n",
    "fc = nn.Sequential(\n",
    "    nn.Linear(25088,4096),nn.ReLU(inplace = True),nn.Dropout(0.5),\n",
    "    nn.Linear(4096, 4096),nn.ReLU(inplace = True),nn.Dropout(0.5),\n",
    "    nn.Linear(4096, 1000),nn.ReLU(inplace = True),nn.Dropout(0.5),\n",
    "    nn.Linear(1000,10)\n",
    ")\n",
    "\n",
    "model.classifier = fc"
   ]
  },
  {
   "cell_type": "code",
   "execution_count": 6,
   "metadata": {},
   "outputs": [
    {
     "data": {
      "text/plain": [
       "VGG(\n",
       "  (features): Sequential(\n",
       "    (0): Conv2d(3, 64, kernel_size=(3, 3), stride=(1, 1), padding=(1, 1))\n",
       "    (1): ReLU(inplace)\n",
       "    (2): MaxPool2d(kernel_size=2, stride=2, padding=0, dilation=1, ceil_mode=False)\n",
       "    (3): Conv2d(64, 128, kernel_size=(3, 3), stride=(1, 1), padding=(1, 1))\n",
       "    (4): ReLU(inplace)\n",
       "    (5): MaxPool2d(kernel_size=2, stride=2, padding=0, dilation=1, ceil_mode=False)\n",
       "    (6): Conv2d(128, 256, kernel_size=(3, 3), stride=(1, 1), padding=(1, 1))\n",
       "    (7): ReLU(inplace)\n",
       "    (8): Conv2d(256, 256, kernel_size=(3, 3), stride=(1, 1), padding=(1, 1))\n",
       "    (9): ReLU(inplace)\n",
       "    (10): MaxPool2d(kernel_size=2, stride=2, padding=0, dilation=1, ceil_mode=False)\n",
       "    (11): Conv2d(256, 512, kernel_size=(3, 3), stride=(1, 1), padding=(1, 1))\n",
       "    (12): ReLU(inplace)\n",
       "    (13): Conv2d(512, 512, kernel_size=(3, 3), stride=(1, 1), padding=(1, 1))\n",
       "    (14): ReLU(inplace)\n",
       "    (15): MaxPool2d(kernel_size=2, stride=2, padding=0, dilation=1, ceil_mode=False)\n",
       "    (16): Conv2d(512, 512, kernel_size=(3, 3), stride=(1, 1), padding=(1, 1))\n",
       "    (17): ReLU(inplace)\n",
       "    (18): Conv2d(512, 512, kernel_size=(3, 3), stride=(1, 1), padding=(1, 1))\n",
       "    (19): ReLU(inplace)\n",
       "    (20): MaxPool2d(kernel_size=2, stride=2, padding=0, dilation=1, ceil_mode=False)\n",
       "  )\n",
       "  (avgpool): AdaptiveAvgPool2d(output_size=(7, 7))\n",
       "  (classifier): Sequential(\n",
       "    (0): Linear(in_features=25088, out_features=4096, bias=True)\n",
       "    (1): ReLU(inplace)\n",
       "    (2): Dropout(p=0.5)\n",
       "    (3): Linear(in_features=4096, out_features=4096, bias=True)\n",
       "    (4): ReLU(inplace)\n",
       "    (5): Dropout(p=0.5)\n",
       "    (6): Linear(in_features=4096, out_features=1000, bias=True)\n",
       "    (7): ReLU(inplace)\n",
       "    (8): Dropout(p=0.5)\n",
       "    (9): Linear(in_features=1000, out_features=10, bias=True)\n",
       "  )\n",
       ")"
      ]
     },
     "execution_count": 6,
     "metadata": {},
     "output_type": "execute_result"
    }
   ],
   "source": [
    "criterion = nn.CrossEntropyLoss()\n",
    "optimizer = torch.optim.Adam(model.parameters(), lr = learning_rate)\n",
    "\n",
    "model.to(device)"
   ]
  },
  {
   "cell_type": "code",
   "execution_count": 7,
   "metadata": {},
   "outputs": [
    {
     "name": "stdout",
     "output_type": "stream",
     "text": [
      "Epoch [1/5], Step [100/600], Loss: 1.0254\n",
      "Epoch [1/5], Step [200/600], Loss: 0.3571\n",
      "Epoch [1/5], Step [300/600], Loss: 0.0349\n",
      "Epoch [1/5], Step [400/600], Loss: 0.0842\n",
      "Epoch [1/5], Step [500/600], Loss: 0.1008\n",
      "Epoch [1/5], Step [600/600], Loss: 0.0489\n",
      "Epoch [2/5], Step [100/600], Loss: 0.0510\n",
      "Epoch [2/5], Step [200/600], Loss: 0.1023\n",
      "Epoch [2/5], Step [300/600], Loss: 0.0485\n",
      "Epoch [2/5], Step [400/600], Loss: 0.0665\n",
      "Epoch [2/5], Step [500/600], Loss: 0.0645\n",
      "Epoch [2/5], Step [600/600], Loss: 0.0330\n",
      "Epoch [3/5], Step [100/600], Loss: 0.1066\n",
      "Epoch [3/5], Step [200/600], Loss: 0.0111\n",
      "Epoch [3/5], Step [300/600], Loss: 0.2017\n",
      "Epoch [3/5], Step [400/600], Loss: 0.0094\n",
      "Epoch [3/5], Step [500/600], Loss: 0.0646\n",
      "Epoch [3/5], Step [600/600], Loss: 0.0447\n",
      "Epoch [4/5], Step [100/600], Loss: 0.0538\n",
      "Epoch [4/5], Step [200/600], Loss: 0.0051\n",
      "Epoch [4/5], Step [300/600], Loss: 0.0064\n",
      "Epoch [4/5], Step [400/600], Loss: 0.0371\n",
      "Epoch [4/5], Step [500/600], Loss: 0.0354\n",
      "Epoch [4/5], Step [600/600], Loss: 0.0422\n",
      "Epoch [5/5], Step [100/600], Loss: 0.0005\n",
      "Epoch [5/5], Step [200/600], Loss: 0.0204\n",
      "Epoch [5/5], Step [300/600], Loss: 0.1254\n",
      "Epoch [5/5], Step [400/600], Loss: 0.0044\n",
      "Epoch [5/5], Step [500/600], Loss: 0.0341\n",
      "Epoch [5/5], Step [600/600], Loss: 0.0184\n"
     ]
    }
   ],
   "source": [
    "padding = Variable(torch.zeros(100, 2, 28, 28))\n",
    "\n",
    "total_step = len(train_loader)\n",
    "\n",
    "for epoch in range(num_epochs):\n",
    "    for i, (images, labels) in enumerate(train_loader):\n",
    "        images = torch.cat((images, padding), 1)\n",
    "        images = images.to(device)\n",
    "        labels = labels.to(device)\n",
    "        \n",
    "        outputs = model(images)\n",
    "        loss = criterion(outputs, labels)\n",
    "        \n",
    "        optimizer.zero_grad()\n",
    "        loss.backward()\n",
    "        optimizer.step()\n",
    "        \n",
    "        if (i+1) % 100 == 0:\n",
    "            print ('Epoch [{}/{}], Step [{}/{}], Loss: {:.4f}' \n",
    "                   .format(epoch+1, num_epochs, i+1, total_step, loss.item()))"
   ]
  },
  {
   "cell_type": "code",
   "execution_count": 8,
   "metadata": {},
   "outputs": [
    {
     "name": "stdout",
     "output_type": "stream",
     "text": [
      "9884\n",
      "Test Accuracy of the model on the 10000 test images: 98.84 %\n"
     ]
    }
   ],
   "source": [
    "model.eval()\n",
    "\n",
    "with torch.no_grad():\n",
    "    correct = 0\n",
    "    total = 0\n",
    "    for images, labels in test_loader:\n",
    "        images = torch.cat((images, padding), 1)\n",
    "        images = images.to(device)\n",
    "        labels = labels.to(device)\n",
    "        \n",
    "        outputs = model(images)\n",
    "        _, predicted = torch.max(outputs.data, 1)\n",
    "        total += labels.size(0)\n",
    "        correct += (predicted == labels).sum().item()\n",
    "        \n",
    "    pred = predicted.to('cpu')\n",
    "    lb = labels.to('cpu')\n",
    "    pred = np.array(pred)\n",
    "    lb = np.array(lb)\n",
    "    print(correct)\n",
    "    print('Test Accuracy of the model on the 10000 test images: {} %'.format(100 * correct / total))"
   ]
  },
  {
   "cell_type": "code",
   "execution_count": 9,
   "metadata": {},
   "outputs": [],
   "source": [
    "confusion_loader = torch.utils.data.DataLoader(dataset = test_dataset, batch_size= 10000, shuffle = False)\n",
    "\n",
    "padding = Variable(torch.zeros(10000, 2, 28, 28))\n",
    "\n",
    "model.to('cpu')\n",
    "with torch.no_grad():\n",
    "    correct = 0\n",
    "    total = 0\n",
    "    for images, labels in confusion_loader:\n",
    "        images = torch.cat((images, padding), 1)\n",
    "        #images = images.to(device)\n",
    "        #labels = labels.to(device)\n",
    "        outputs = model(images)\n",
    "        _, predicted = torch.max(outputs.data, 1)\n",
    "        total += labels.size(0)\n",
    "        correct += (predicted == labels).sum().item()\n",
    "        \n",
    "    pred = predicted.to('cpu')\n",
    "    lb = labels.to('cpu')\n",
    "    pred = np.array(pred)\n",
    "    lb = np.array(lb)"
   ]
  },
  {
   "cell_type": "code",
   "execution_count": 10,
   "metadata": {},
   "outputs": [
    {
     "name": "stdout",
     "output_type": "stream",
     "text": [
      "The Accuracy : 98.83999999999999\n",
      "The Precision : 98.84241085115141\n",
      "The Recall : 98.82994847169935\n",
      "The F1 Score : 98.8318159849846\n"
     ]
    }
   ],
   "source": [
    "print(f\"The Accuracy : { 100 * metrics.accuracy_score(lb, pred)}\")\n",
    "print(f\"The Precision : {100 * metrics.precision_score(lb, pred, average= 'macro')}\")\n",
    "print(f\"The Recall : {100 * metrics.recall_score(lb, pred, average= 'macro')}\")\n",
    "print(f\"The F1 Score : {100 *metrics.f1_score(lb, pred, average = 'macro')}\")"
   ]
  },
  {
   "cell_type": "code",
   "execution_count": 12,
   "metadata": {},
   "outputs": [
    {
     "data": {
      "image/png": "[encoded data removed]",
      "text/plain": [
       "<Figure size 576x432 with 2 Axes>"
      ]
     },
     "metadata": {
      "needs_background": "light"
     },
     "output_type": "display_data"
    },
    {
     "name": "stdout",
     "output_type": "stream",
     "text": [
      "None\n"
     ]
    }
   ],
   "source": [
    "from cm_helper import plot_confusion_matrix\n",
    "\n",
    "conf_matrix = metrics.confusion_matrix(lb, pred)\n",
    "print(plot_confusion_matrix(conf_matrix,normalize =False,target_names=[0,1,2,3,4,5,6,7,8,9]))"
   ]
  },
  {
   "cell_type": "code",
   "execution_count": null,
   "metadata": {},
   "outputs": [],
   "source": []
  }
 ],
 "metadata": {
  "kernelspec": {
   "display_name": "Python 3",
   "language": "python",
   "name": "python3"
  },
  "language_info": {
   "codemirror_mode": {
    "name": "ipython",
    "version": 3
   },
   "file_extension": ".py",
   "mimetype": "text/x-python",
   "name": "python",
   "nbconvert_exporter": "python",
   "pygments_lexer": "ipython3",
   "version": "3.6.9"
  }
 },
 "nbformat": 4,
 "nbformat_minor": 4
}
