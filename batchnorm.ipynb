{
 "cells": [
  {
   "cell_type": "code",
   "execution_count": 1,
   "metadata": {},
   "outputs": [],
   "source": [
    "import torch \n",
    "import torch.nn as nn\n",
    "import torchvision\n",
    "from torchvision import models\n",
    "from torch.autograd import Variable\n",
    "import torchvision.transforms as transforms\n",
    "import numpy as np\n",
    "from sklearn import metrics\n",
    "\n",
    "device = torch.device('cuda:0' if torch.cuda.is_available() else 'cpu')\n",
    "\n",
    "transform = transforms.Compose(\n",
    "    [transforms.ToTensor(),\n",
    "     transforms.Normalize([0.5], [0.5])])\n",
    "transform = transforms.Compose(\n",
    "    [transforms.ToTensor(),\n",
    "     transforms.Normalize([0.5], [0.5])])\n",
    "\n",
    "\n",
    "\n",
    "train_dataset = torchvision.datasets.MNIST(root = '../input/',\n",
    "                                           train = True,\n",
    "                                          transform = transform,\n",
    "                                          download = True)\n",
    "\n",
    "test_dataset = torchvision.datasets.MNIST(root = '../input/',\n",
    "                                           train = False,\n",
    "                                          transform = transform)"
   ]
  },
  {
   "cell_type": "code",
   "execution_count": 2,
   "metadata": {},
   "outputs": [],
   "source": [
    "## HYPER PARAMETERS\n",
    "batch_size = 100\n",
    "learning_rate = 0.003\n",
    "num_epochs = 10\n",
    "## HYPER PARAMETERS"
   ]
  },
  {
   "cell_type": "code",
   "execution_count": 3,
   "metadata": {},
   "outputs": [],
   "source": [
    "train_loader = torch.utils.data.DataLoader(dataset = train_dataset, batch_size= batch_size, shuffle= True)\n",
    "\n",
    "test_loader = torch.utils.data.DataLoader(dataset = test_dataset, batch_size= batch_size, shuffle = False)"
   ]
  },
  {
   "cell_type": "code",
   "execution_count": 4,
   "metadata": {},
   "outputs": [],
   "source": [
    "class Model(nn.Module):\n",
    "    def __init__(self):\n",
    "        super(Model, self).__init__()\n",
    "        \n",
    "        self.conv_block = nn.Sequential(\n",
    "            nn.Conv2d(1, 32, kernel_size=3, stride=1, padding=1),\n",
    "            nn.BatchNorm2d(32),\n",
    "            nn.ReLU(inplace=True),\n",
    "            nn.Conv2d(32, 64, kernel_size=3, stride=1, padding=1),\n",
    "            nn.BatchNorm2d(64),\n",
    "            nn.ReLU(inplace=True),\n",
    "            nn.MaxPool2d(kernel_size=2, stride=2),\n",
    "            nn.Conv2d(64, 128, kernel_size=3, stride=1, padding=1),\n",
    "            nn.BatchNorm2d(128),\n",
    "            nn.ReLU(inplace=True),\n",
    "            nn.MaxPool2d(kernel_size=2, stride=2) \n",
    "        )\n",
    "        \n",
    "        self.linear_block = nn.Sequential(\n",
    "            nn.Dropout(p=0.5),\n",
    "            nn.Linear(128*7*7, 128),\n",
    "            nn.BatchNorm1d(128),\n",
    "            nn.ReLU(inplace=True),\n",
    "            nn.Dropout(0.5),\n",
    "            nn.Linear(128, 64),\n",
    "            nn.BatchNorm1d(64),\n",
    "            nn.ReLU(inplace=True),\n",
    "            nn.Dropout(0.5),\n",
    "            nn.Linear(64, 10)\n",
    "        )\n",
    "        \n",
    "    def forward(self, x):\n",
    "        x = self.conv_block(x)\n",
    "        x = x.view(x.size(0), -1)\n",
    "        x = self.linear_block(x)\n",
    "        \n",
    "        return x"
   ]
  },
  {
   "cell_type": "code",
   "execution_count": 5,
   "metadata": {},
   "outputs": [],
   "source": [
    "model = Model()"
   ]
  },
  {
   "cell_type": "code",
   "execution_count": 6,
   "metadata": {},
   "outputs": [
    {
     "data": {
      "text/plain": [
       "Model(\n",
       "  (conv_block): Sequential(\n",
       "    (0): Conv2d(1, 32, kernel_size=(3, 3), stride=(1, 1), padding=(1, 1))\n",
       "    (1): BatchNorm2d(32, eps=1e-05, momentum=0.1, affine=True, track_running_stats=True)\n",
       "    (2): ReLU(inplace)\n",
       "    (3): Conv2d(32, 64, kernel_size=(3, 3), stride=(1, 1), padding=(1, 1))\n",
       "    (4): BatchNorm2d(64, eps=1e-05, momentum=0.1, affine=True, track_running_stats=True)\n",
       "    (5): ReLU(inplace)\n",
       "    (6): MaxPool2d(kernel_size=2, stride=2, padding=0, dilation=1, ceil_mode=False)\n",
       "    (7): Conv2d(64, 128, kernel_size=(3, 3), stride=(1, 1), padding=(1, 1))\n",
       "    (8): BatchNorm2d(128, eps=1e-05, momentum=0.1, affine=True, track_running_stats=True)\n",
       "    (9): ReLU(inplace)\n",
       "    (10): MaxPool2d(kernel_size=2, stride=2, padding=0, dilation=1, ceil_mode=False)\n",
       "  )\n",
       "  (linear_block): Sequential(\n",
       "    (0): Dropout(p=0.5)\n",
       "    (1): Linear(in_features=6272, out_features=128, bias=True)\n",
       "    (2): BatchNorm1d(128, eps=1e-05, momentum=0.1, affine=True, track_running_stats=True)\n",
       "    (3): ReLU(inplace)\n",
       "    (4): Dropout(p=0.5)\n",
       "    (5): Linear(in_features=128, out_features=64, bias=True)\n",
       "    (6): BatchNorm1d(64, eps=1e-05, momentum=0.1, affine=True, track_running_stats=True)\n",
       "    (7): ReLU(inplace)\n",
       "    (8): Dropout(p=0.5)\n",
       "    (9): Linear(in_features=64, out_features=10, bias=True)\n",
       "  )\n",
       ")"
      ]
     },
     "execution_count": 6,
     "metadata": {},
     "output_type": "execute_result"
    }
   ],
   "source": [
    "optimizer = torch.optim.Adam(params=model.parameters(), lr=0.003)\n",
    "criterion = nn.CrossEntropyLoss()\n",
    "model.to(device)"
   ]
  },
  {
   "cell_type": "code",
   "execution_count": 7,
   "metadata": {},
   "outputs": [
    {
     "name": "stdout",
     "output_type": "stream",
     "text": [
      "Epoch [1/10], Step [100/600], Loss: 0.4242\n",
      "Epoch [1/10], Step [200/600], Loss: 0.2322\n",
      "Epoch [1/10], Step [300/600], Loss: 0.1200\n",
      "Epoch [1/10], Step [400/600], Loss: 0.0448\n",
      "Epoch [1/10], Step [500/600], Loss: 0.1760\n",
      "Epoch [1/10], Step [600/600], Loss: 0.0522\n",
      "Epoch [2/10], Step [100/600], Loss: 0.0944\n",
      "Epoch [2/10], Step [200/600], Loss: 0.0567\n",
      "Epoch [2/10], Step [300/600], Loss: 0.1058\n",
      "Epoch [2/10], Step [400/600], Loss: 0.0480\n",
      "Epoch [2/10], Step [500/600], Loss: 0.0636\n",
      "Epoch [2/10], Step [600/600], Loss: 0.0703\n",
      "Epoch [3/10], Step [100/600], Loss: 0.0404\n",
      "Epoch [3/10], Step [200/600], Loss: 0.0748\n",
      "Epoch [3/10], Step [300/600], Loss: 0.1406\n",
      "Epoch [3/10], Step [400/600], Loss: 0.0319\n",
      "Epoch [3/10], Step [500/600], Loss: 0.0692\n",
      "Epoch [3/10], Step [600/600], Loss: 0.0431\n",
      "Epoch [4/10], Step [100/600], Loss: 0.0695\n",
      "Epoch [4/10], Step [200/600], Loss: 0.0296\n",
      "Epoch [4/10], Step [300/600], Loss: 0.0658\n",
      "Epoch [4/10], Step [400/600], Loss: 0.0896\n",
      "Epoch [4/10], Step [500/600], Loss: 0.0519\n",
      "Epoch [4/10], Step [600/600], Loss: 0.0797\n",
      "Epoch [5/10], Step [100/600], Loss: 0.1421\n",
      "Epoch [5/10], Step [200/600], Loss: 0.2161\n",
      "Epoch [5/10], Step [300/600], Loss: 0.0248\n",
      "Epoch [5/10], Step [400/600], Loss: 0.0116\n",
      "Epoch [5/10], Step [500/600], Loss: 0.0224\n",
      "Epoch [5/10], Step [600/600], Loss: 0.0234\n",
      "Epoch [6/10], Step [100/600], Loss: 0.0837\n",
      "Epoch [6/10], Step [200/600], Loss: 0.0664\n",
      "Epoch [6/10], Step [300/600], Loss: 0.1547\n",
      "Epoch [6/10], Step [400/600], Loss: 0.0604\n",
      "Epoch [6/10], Step [500/600], Loss: 0.1485\n",
      "Epoch [6/10], Step [600/600], Loss: 0.1074\n",
      "Epoch [7/10], Step [100/600], Loss: 0.0188\n",
      "Epoch [7/10], Step [200/600], Loss: 0.1091\n",
      "Epoch [7/10], Step [300/600], Loss: 0.0460\n",
      "Epoch [7/10], Step [400/600], Loss: 0.0105\n",
      "Epoch [7/10], Step [500/600], Loss: 0.0173\n",
      "Epoch [7/10], Step [600/600], Loss: 0.2424\n",
      "Epoch [8/10], Step [100/600], Loss: 0.0114\n",
      "Epoch [8/10], Step [200/600], Loss: 0.0437\n",
      "Epoch [8/10], Step [300/600], Loss: 0.0586\n",
      "Epoch [8/10], Step [400/600], Loss: 0.0320\n",
      "Epoch [8/10], Step [500/600], Loss: 0.0828\n",
      "Epoch [8/10], Step [600/600], Loss: 0.0189\n",
      "Epoch [9/10], Step [100/600], Loss: 0.0216\n",
      "Epoch [9/10], Step [200/600], Loss: 0.0088\n",
      "Epoch [9/10], Step [300/600], Loss: 0.0031\n",
      "Epoch [9/10], Step [400/600], Loss: 0.0932\n",
      "Epoch [9/10], Step [500/600], Loss: 0.0715\n",
      "Epoch [9/10], Step [600/600], Loss: 0.0316\n",
      "Epoch [10/10], Step [100/600], Loss: 0.1363\n",
      "Epoch [10/10], Step [200/600], Loss: 0.0081\n",
      "Epoch [10/10], Step [300/600], Loss: 0.0081\n",
      "Epoch [10/10], Step [400/600], Loss: 0.0230\n",
      "Epoch [10/10], Step [500/600], Loss: 0.0974\n",
      "Epoch [10/10], Step [600/600], Loss: 0.0913\n"
     ]
    }
   ],
   "source": [
    "total_step = len(train_loader)\n",
    "\n",
    "for epoch in range(num_epochs):\n",
    "    for i, (images, labels) in enumerate(train_loader):\n",
    "        images = images.to(device)\n",
    "        labels = labels.to(device)\n",
    "        \n",
    "        outputs = model(images)\n",
    "        loss = criterion(outputs, labels)\n",
    "        \n",
    "        optimizer.zero_grad()\n",
    "        loss.backward()\n",
    "        optimizer.step()\n",
    "        \n",
    "        if (i+1) % 100 == 0:\n",
    "            print ('Epoch [{}/{}], Step [{}/{}], Loss: {:.4f}' \n",
    "                   .format(epoch+1, num_epochs, i+1, total_step, loss.item()))"
   ]
  },
  {
   "cell_type": "code",
   "execution_count": 11,
   "metadata": {},
   "outputs": [],
   "source": [
    "confusion_loader = torch.utils.data.DataLoader(dataset = test_dataset, batch_size= 10000, shuffle = False)\n",
    "model.to('cpu')\n",
    "with torch.no_grad():\n",
    "    correct = 0\n",
    "    total = 0\n",
    "    for images, labels in confusion_loader:\n",
    "        outputs = model(images)\n",
    "        _, predicted = torch.max(outputs.data, 1)\n",
    "        total += labels.size(0)\n",
    "        correct += (predicted == labels).sum().item()\n",
    "        \n",
    "    pred = predicted.to('cpu')\n",
    "    lb = labels.to('cpu')\n",
    "    pred = np.array(pred)\n",
    "    lb = np.array(lb)"
   ]
  },
  {
   "cell_type": "code",
   "execution_count": 12,
   "metadata": {},
   "outputs": [
    {
     "data": {
      "image/png": "[encoded data removed]",
      "text/plain": [
       "<Figure size 576x432 with 2 Axes>"
      ]
     },
     "metadata": {
      "needs_background": "light"
     },
     "output_type": "display_data"
    },
    {
     "name": "stdout",
     "output_type": "stream",
     "text": [
      "None\n"
     ]
    }
   ],
   "source": [
    "from cm_helper import plot_confusion_matrix\n",
    "\n",
    "conf_matrix = metrics.confusion_matrix(lb, pred)\n",
    "print(plot_confusion_matrix(conf_matrix,normalize =False,target_names=[0,1,2,3,4,5,6,7,8,9]))"
   ]
  },
  {
   "cell_type": "code",
   "execution_count": 13,
   "metadata": {},
   "outputs": [
    {
     "name": "stdout",
     "output_type": "stream",
     "text": [
      "The Accuracy : 98.74000000000001\n",
      "The Precision : 98.7314938134724\n",
      "The Recall : 98.73772442863269\n",
      "The F1 Score : 98.73307358162673\n"
     ]
    }
   ],
   "source": [
    "print(f\"The Accuracy : { 100 * metrics.accuracy_score(lb, pred)}\")\n",
    "print(f\"The Precision : {100 * metrics.precision_score(lb, pred, average= 'macro')}\")\n",
    "print(f\"The Recall : {100 * metrics.recall_score(lb, pred, average= 'macro')}\")\n",
    "print(f\"The F1 Score : {100 *metrics.f1_score(lb, pred, average = 'macro')}\")"
   ]
  },
  {
   "cell_type": "code",
   "execution_count": null,
   "metadata": {},
   "outputs": [],
   "source": [
    "#https://www.kaggle.com/franklemuchahary/mnist-digit-recognition-using-pytorch"
   ]
  }
 ],
 "metadata": {
  "kernelspec": {
   "display_name": "Python 3",
   "language": "python",
   "name": "python3"
  },
  "language_info": {
   "codemirror_mode": {
    "name": "ipython",
    "version": 3
   },
   "file_extension": ".py",
   "mimetype": "text/x-python",
   "name": "python",
   "nbconvert_exporter": "python",
   "pygments_lexer": "ipython3",
   "version": "3.6.9"
  }
 },
 "nbformat": 4,
 "nbformat_minor": 4
}
