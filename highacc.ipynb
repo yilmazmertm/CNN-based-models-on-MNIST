{
 "cells": [
  {
   "cell_type": "code",
   "execution_count": 1,
   "metadata": {},
   "outputs": [],
   "source": [
    "import torch \n",
    "import torch.nn as nn\n",
    "import torchvision\n",
    "from torchvision import models\n",
    "from torch.autograd import Variable\n",
    "import torchvision.transforms as transforms\n",
    "import numpy as np\n",
    "from sklearn import metrics\n",
    "\n",
    "device = torch.device('cuda:0' if torch.cuda.is_available() else 'cpu')\n",
    "\n",
    "transform = transforms.Compose(\n",
    "    [transforms.ToTensor(),\n",
    "     transforms.Normalize([0.5], [0.5])])\n",
    "transform = transforms.Compose(\n",
    "    [transforms.ToTensor(),\n",
    "     transforms.Normalize([0.5], [0.5])])\n",
    "\n",
    "\n",
    "train_dataset = torchvision.datasets.MNIST(root = '../input/',\n",
    "                                           train = True,\n",
    "                                          transform = transform,\n",
    "                                          download = True)\n",
    "\n",
    "test_dataset = torchvision.datasets.MNIST(root = '../input/',\n",
    "                                           train = False,\n",
    "                                          transform = transform)"
   ]
  },
  {
   "cell_type": "code",
   "execution_count": 2,
   "metadata": {},
   "outputs": [],
   "source": [
    "batch_size = 100\n",
    "learning_rate = 1e-4\n",
    "num_epochs = 10"
   ]
  },
  {
   "cell_type": "code",
   "execution_count": 3,
   "metadata": {},
   "outputs": [],
   "source": [
    "train_loader = torch.utils.data.DataLoader(dataset = train_dataset, batch_size= batch_size, shuffle= True)\n",
    "\n",
    "test_loader = torch.utils.data.DataLoader(dataset = test_dataset, batch_size= batch_size, shuffle = False)"
   ]
  },
  {
   "cell_type": "code",
   "execution_count": 9,
   "metadata": {},
   "outputs": [],
   "source": [
    "import torch.nn.functional as F\n",
    "\n",
    "class Model(nn.Module):\n",
    "    def __init__(self):\n",
    "        super(Model, self).__init__()\n",
    "        self.conv1 = nn.Sequential(\n",
    "                         nn.Conv2d(in_channels=1, out_channels=4, kernel_size=3, padding=1),\n",
    "                         nn.BatchNorm2d(4),\n",
    "                         nn.ReLU(inplace=True),\n",
    "                         nn.MaxPool2d(kernel_size=2, stride=2))\n",
    "        self.conv2 = nn.Sequential(\n",
    "                         nn.Conv2d(in_channels=4, out_channels=16, kernel_size=3, padding=1),\n",
    "                         nn.BatchNorm2d(16),\n",
    "                         nn.ReLU(inplace=True),\n",
    "                         nn.MaxPool2d(kernel_size=2, stride=2))\n",
    "        self.conv3 = nn.Sequential(\n",
    "                         nn.Conv2d(in_channels=16, out_channels=64, kernel_size=3, padding=1),\n",
    "                         nn.BatchNorm2d(64),\n",
    "                         nn.ReLU(inplace=True),\n",
    "                         nn.MaxPool2d(kernel_size=3, stride=2))\n",
    "        self.fc = nn.Sequential(\n",
    "                         nn.Dropout(p=0.5),\n",
    "                         nn.Linear(in_features=3*3*64, out_features=128),\n",
    "                         nn.BatchNorm1d(128),\n",
    "                         nn.ReLU(inplace=True),\n",
    "                         nn.Dropout(p=0.5),\n",
    "                         nn.Linear(in_features=128, out_features=32),\n",
    "                         nn.BatchNorm1d(32),\n",
    "                         nn.ReLU(inplace=True),\n",
    "                         nn.Linear(in_features=32, out_features=10))\n",
    "    \n",
    "    def forward(self, x):\n",
    "        x = self.conv1(x)\n",
    "        x = self.conv2(x)\n",
    "        x = self.conv3(x)\n",
    "        x = x.view((x.shape[0],-1))\n",
    "        x = self.fc(x)\n",
    "        x = F.log_softmax(x, dim=1)\n",
    "        return x"
   ]
  },
  {
   "cell_type": "code",
   "execution_count": 10,
   "metadata": {},
   "outputs": [
    {
     "data": {
      "text/plain": [
       "Model(\n",
       "  (conv1): Sequential(\n",
       "    (0): Conv2d(1, 4, kernel_size=(3, 3), stride=(1, 1), padding=(1, 1))\n",
       "    (1): BatchNorm2d(4, eps=1e-05, momentum=0.1, affine=True, track_running_stats=True)\n",
       "    (2): ReLU(inplace)\n",
       "    (3): MaxPool2d(kernel_size=2, stride=2, padding=0, dilation=1, ceil_mode=False)\n",
       "  )\n",
       "  (conv2): Sequential(\n",
       "    (0): Conv2d(4, 16, kernel_size=(3, 3), stride=(1, 1), padding=(1, 1))\n",
       "    (1): BatchNorm2d(16, eps=1e-05, momentum=0.1, affine=True, track_running_stats=True)\n",
       "    (2): ReLU(inplace)\n",
       "    (3): MaxPool2d(kernel_size=2, stride=2, padding=0, dilation=1, ceil_mode=False)\n",
       "  )\n",
       "  (conv3): Sequential(\n",
       "    (0): Conv2d(16, 64, kernel_size=(3, 3), stride=(1, 1), padding=(1, 1))\n",
       "    (1): BatchNorm2d(64, eps=1e-05, momentum=0.1, affine=True, track_running_stats=True)\n",
       "    (2): ReLU(inplace)\n",
       "    (3): MaxPool2d(kernel_size=3, stride=2, padding=0, dilation=1, ceil_mode=False)\n",
       "  )\n",
       "  (fc): Sequential(\n",
       "    (0): Dropout(p=0.5)\n",
       "    (1): Linear(in_features=576, out_features=128, bias=True)\n",
       "    (2): BatchNorm1d(128, eps=1e-05, momentum=0.1, affine=True, track_running_stats=True)\n",
       "    (3): ReLU(inplace)\n",
       "    (4): Dropout(p=0.5)\n",
       "    (5): Linear(in_features=128, out_features=32, bias=True)\n",
       "    (6): BatchNorm1d(32, eps=1e-05, momentum=0.1, affine=True, track_running_stats=True)\n",
       "    (7): ReLU(inplace)\n",
       "    (8): Linear(in_features=32, out_features=10, bias=True)\n",
       "  )\n",
       ")"
      ]
     },
     "execution_count": 10,
     "metadata": {},
     "output_type": "execute_result"
    }
   ],
   "source": [
    "model = Model()\n",
    "\n",
    "optimizer = torch.optim.Adam(model.parameters(), lr=learning_rate)\n",
    "criterion = nn.NLLLoss()\n",
    "\n",
    "model.to(device)"
   ]
  },
  {
   "cell_type": "code",
   "execution_count": 11,
   "metadata": {},
   "outputs": [
    {
     "name": "stdout",
     "output_type": "stream",
     "text": [
      "Epoch [1/10], Step [100/600], Loss: 2.2143\n",
      "Epoch [1/10], Step [200/600], Loss: 2.0940\n",
      "Epoch [1/10], Step [300/600], Loss: 1.9846\n",
      "Epoch [1/10], Step [400/600], Loss: 1.9113\n",
      "Epoch [1/10], Step [500/600], Loss: 1.7888\n",
      "Epoch [1/10], Step [600/600], Loss: 1.6531\n",
      "Epoch [2/10], Step [100/600], Loss: 1.5705\n",
      "Epoch [2/10], Step [200/600], Loss: 1.5208\n",
      "Epoch [2/10], Step [300/600], Loss: 1.3032\n",
      "Epoch [2/10], Step [400/600], Loss: 1.3161\n",
      "Epoch [2/10], Step [500/600], Loss: 1.1697\n",
      "Epoch [2/10], Step [600/600], Loss: 1.0401\n",
      "Epoch [3/10], Step [100/600], Loss: 0.9592\n",
      "Epoch [3/10], Step [200/600], Loss: 0.9745\n",
      "Epoch [3/10], Step [300/600], Loss: 0.8733\n",
      "Epoch [3/10], Step [400/600], Loss: 0.7380\n",
      "Epoch [3/10], Step [500/600], Loss: 0.7053\n",
      "Epoch [3/10], Step [600/600], Loss: 0.6193\n",
      "Epoch [4/10], Step [100/600], Loss: 0.6935\n",
      "Epoch [4/10], Step [200/600], Loss: 0.5224\n",
      "Epoch [4/10], Step [300/600], Loss: 0.5018\n",
      "Epoch [4/10], Step [400/600], Loss: 0.4795\n",
      "Epoch [4/10], Step [500/600], Loss: 0.5243\n",
      "Epoch [4/10], Step [600/600], Loss: 0.4531\n",
      "Epoch [5/10], Step [100/600], Loss: 0.3405\n",
      "Epoch [5/10], Step [200/600], Loss: 0.4303\n",
      "Epoch [5/10], Step [300/600], Loss: 0.3851\n",
      "Epoch [5/10], Step [400/600], Loss: 0.3125\n",
      "Epoch [5/10], Step [500/600], Loss: 0.3488\n",
      "Epoch [5/10], Step [600/600], Loss: 0.2673\n",
      "Epoch [6/10], Step [100/600], Loss: 0.2736\n",
      "Epoch [6/10], Step [200/600], Loss: 0.3122\n",
      "Epoch [6/10], Step [300/600], Loss: 0.3047\n",
      "Epoch [6/10], Step [400/600], Loss: 0.2610\n",
      "Epoch [6/10], Step [500/600], Loss: 0.2937\n",
      "Epoch [6/10], Step [600/600], Loss: 0.1868\n",
      "Epoch [7/10], Step [100/600], Loss: 0.3073\n",
      "Epoch [7/10], Step [200/600], Loss: 0.2559\n",
      "Epoch [7/10], Step [300/600], Loss: 0.1943\n",
      "Epoch [7/10], Step [400/600], Loss: 0.2993\n",
      "Epoch [7/10], Step [500/600], Loss: 0.2409\n",
      "Epoch [7/10], Step [600/600], Loss: 0.2252\n",
      "Epoch [8/10], Step [100/600], Loss: 0.2456\n",
      "Epoch [8/10], Step [200/600], Loss: 0.2485\n",
      "Epoch [8/10], Step [300/600], Loss: 0.2719\n",
      "Epoch [8/10], Step [400/600], Loss: 0.2237\n",
      "Epoch [8/10], Step [500/600], Loss: 0.1895\n",
      "Epoch [8/10], Step [600/600], Loss: 0.1565\n",
      "Epoch [9/10], Step [100/600], Loss: 0.0762\n",
      "Epoch [9/10], Step [200/600], Loss: 0.1425\n",
      "Epoch [9/10], Step [300/600], Loss: 0.1309\n",
      "Epoch [9/10], Step [400/600], Loss: 0.1496\n",
      "Epoch [9/10], Step [500/600], Loss: 0.1379\n",
      "Epoch [9/10], Step [600/600], Loss: 0.2211\n",
      "Epoch [10/10], Step [100/600], Loss: 0.0780\n",
      "Epoch [10/10], Step [200/600], Loss: 0.2262\n",
      "Epoch [10/10], Step [300/600], Loss: 0.1698\n",
      "Epoch [10/10], Step [400/600], Loss: 0.1245\n",
      "Epoch [10/10], Step [500/600], Loss: 0.0901\n",
      "Epoch [10/10], Step [600/600], Loss: 0.1503\n"
     ]
    }
   ],
   "source": [
    "total_step = len(train_loader)\n",
    "\n",
    "for epoch in range(num_epochs):\n",
    "    for i, (images, labels) in enumerate(train_loader):\n",
    "        images = images.to(device)\n",
    "        labels = labels.to(device)\n",
    "        \n",
    "        outputs = model(images)\n",
    "        loss = criterion(outputs, labels)\n",
    "        \n",
    "        optimizer.zero_grad()\n",
    "        loss.backward()\n",
    "        optimizer.step()\n",
    "        \n",
    "        if (i+1) % 100 == 0:\n",
    "            print ('Epoch [{}/{}], Step [{}/{}], Loss: {:.4f}' \n",
    "                   .format(epoch+1, num_epochs, i+1, total_step, loss.item()))"
   ]
  },
  {
   "cell_type": "code",
   "execution_count": 12,
   "metadata": {},
   "outputs": [],
   "source": [
    "confusion_loader = torch.utils.data.DataLoader(dataset = test_dataset, batch_size= 10000, shuffle = False)\n",
    "\n",
    "with torch.no_grad():\n",
    "    correct = 0\n",
    "    total = 0\n",
    "    for images, labels in confusion_loader:\n",
    "        images = images.to(device)\n",
    "        labels = labels.to(device)\n",
    "        outputs = model(images)\n",
    "        _, predicted = torch.max(outputs.data, 1)\n",
    "        total += labels.size(0)\n",
    "        correct += (predicted == labels).sum().item()\n",
    "        \n",
    "    pred = predicted.to('cpu')\n",
    "    lb = labels.to('cpu')\n",
    "    pred = np.array(pred)\n",
    "    lb = np.array(lb)"
   ]
  },
  {
   "cell_type": "code",
   "execution_count": 14,
   "metadata": {},
   "outputs": [
    {
     "data": {
      "image/png": "[encoded data removed]",
      "text/plain": [
       "<Figure size 576x432 with 2 Axes>"
      ]
     },
     "metadata": {
      "needs_background": "light"
     },
     "output_type": "display_data"
    },
    {
     "name": "stdout",
     "output_type": "stream",
     "text": [
      "None\n"
     ]
    }
   ],
   "source": [
    "from cm_helper import plot_confusion_matrix\n",
    "\n",
    "conf_matrix = metrics.confusion_matrix(lb, pred)\n",
    "print(plot_confusion_matrix(conf_matrix,normalize =False,target_names=[0,1,2,3,4,5,6,7,8,9]))"
   ]
  },
  {
   "cell_type": "code",
   "execution_count": 15,
   "metadata": {},
   "outputs": [
    {
     "name": "stdout",
     "output_type": "stream",
     "text": [
      "The Accuracy : 96.89999999999999\n",
      "The Precision : 96.87082614573002\n",
      "The Recall : 96.86138517881092\n",
      "The F1 Score : 96.86422624047519\n"
     ]
    }
   ],
   "source": [
    "print(f\"The Accuracy : { 100 * metrics.accuracy_score(lb, pred)}\")\n",
    "print(f\"The Precision : {100 * metrics.precision_score(lb, pred, average= 'macro')}\")\n",
    "print(f\"The Recall : {100 * metrics.recall_score(lb, pred, average= 'macro')}\")\n",
    "print(f\"The F1 Score : {100 *metrics.f1_score(lb, pred, average = 'macro')}\")"
   ]
  },
  {
   "cell_type": "code",
   "execution_count": null,
   "metadata": {},
   "outputs": [],
   "source": [
    "#https://www.kaggle.com/enwei26/mnist-digits-pytorch-cnn-99"
   ]
  }
 ],
 "metadata": {
  "kernelspec": {
   "display_name": "Python 3",
   "language": "python",
   "name": "python3"
  },
  "language_info": {
   "codemirror_mode": {
    "name": "ipython",
    "version": 3
   },
   "file_extension": ".py",
   "mimetype": "text/x-python",
   "name": "python",
   "nbconvert_exporter": "python",
   "pygments_lexer": "ipython3",
   "version": "3.6.9"
  }
 },
 "nbformat": 4,
 "nbformat_minor": 4
}
